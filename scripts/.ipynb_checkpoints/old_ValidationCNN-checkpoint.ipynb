{
 "cells": [
  {
   "cell_type": "code",
   "execution_count": null,
   "id": "41e3fa89",
   "metadata": {},
   "outputs": [],
   "source": [
    "import os\n",
    "import torch\n",
    "import torch.nn as nn\n",
    "import torch.optim as optim\n",
    "\n",
    "from torch.utils.data import DataLoader\n",
    "from ModelComponents.MFCCArchitectures import CNN\n",
    "from ModelComponents.dataset import FolderAudioDataset\n",
    "from ModelComponents.utils import plot_training_curves\n",
    "\n"
   ]
  },
  {
   "cell_type": "markdown",
   "id": "4bc6b70c",
   "metadata": {},
   "source": [
    "## Define validation arguments"
   ]
  },
  {
   "cell_type": "code",
   "execution_count": null,
   "id": "f9b0805d",
   "metadata": {},
   "outputs": [],
   "source": [
    "datasets_path = \"../../tp_tap_new/datasets\"\n",
    "preprocessed_path = os.path.join(datasets_path,\"preprocessed/\")\n",
    "checkpoint_path = '../../models/CNNv0.pth'\n",
    "device = torch.device(\"cuda\" if torch.cuda.is_available() else \"cpu\")\n",
    "\n",
    "\n",
    "model_CNN = CNN().to(device)\n",
    "model_CNN.load_state_dict(torch.load(checkpoint_path))\n",
    "\n",
    "\n",
    "criterion = nn.CrossEntropyLoss()\n",
    "\n",
    "\n",
    "batch_size = 128\n",
    "noise_prob_val = 0\n",
    "\n",
    "data_val = FolderAudioDataset(os.path.join(preprocessed_path, \"validation\"), os.path.join(datasets_path, \"bruits\"), noise_prob=noise_prob_val)\n",
    "val_loader = DataLoader(data_val, batch_size=batch_size, shuffle=False)\n"
   ]
  },
  {
   "cell_type": "code",
   "execution_count": null,
   "id": "7a1cde77",
   "metadata": {},
   "outputs": [],
   "source": [
    "\n",
    "# Call the validation function and evaluate the model\n",
    "val_loss, val_accuracy, precision, recall, cm, fpr, tpr, roc_auc = validate_and_evaluate(model_CNN, val_loader, criterion, device)\n"
   ]
  }
 ],
 "metadata": {
  "kernelspec": {
   "display_name": "Python 3 (ipykernel)",
   "language": "python",
   "name": "python3"
  },
  "language_info": {
   "codemirror_mode": {
    "name": "ipython",
    "version": 3
   },
   "file_extension": ".py",
   "mimetype": "text/x-python",
   "name": "python",
   "nbconvert_exporter": "python",
   "pygments_lexer": "ipython3",
   "version": "3.10.12"
  }
 },
 "nbformat": 4,
 "nbformat_minor": 5
}
